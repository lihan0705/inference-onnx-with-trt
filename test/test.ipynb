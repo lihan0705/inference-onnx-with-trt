{
 "cells": [
  {
   "cell_type": "code",
   "execution_count": null,
   "metadata": {},
   "outputs": [],
   "source": []
  },
  {
   "cell_type": "code",
   "execution_count": 5,
   "metadata": {},
   "outputs": [
    {
     "ename": "SyntaxError",
     "evalue": "invalid syntax (2365762770.py, line 6)",
     "output_type": "error",
     "traceback": [
      "\u001b[0;36m  Cell \u001b[0;32mIn [5], line 6\u001b[0;36m\u001b[0m\n\u001b[0;31m    b = (b + << a) + int(i)\u001b[0m\n\u001b[0m             ^\u001b[0m\n\u001b[0;31mSyntaxError\u001b[0m\u001b[0;31m:\u001b[0m invalid syntax\n"
     ]
    }
   ],
   "source": [
    "a = \"0100\"\n",
    "b = 0\n",
    "for i in a:\n",
    "    print(i)\n",
    "    print(b)\n",
    "    b = (b + << a) + int(i)"
   ]
  },
  {
   "cell_type": "code",
   "execution_count": 13,
   "metadata": {},
   "outputs": [],
   "source": [
    "a = 3\n",
    "b = a << 1"
   ]
  },
  {
   "cell_type": "code",
   "execution_count": 14,
   "metadata": {},
   "outputs": [
    {
     "data": {
      "text/plain": [
       "6"
      ]
     },
     "execution_count": 14,
     "metadata": {},
     "output_type": "execute_result"
    }
   ],
   "source": [
    "b"
   ]
  },
  {
   "cell_type": "code",
   "execution_count": 15,
   "metadata": {},
   "outputs": [
    {
     "name": "stdout",
     "output_type": "stream",
     "text": [
      "0b11\n",
      "0b110\n"
     ]
    }
   ],
   "source": [
    "print(bin(a))\n",
    "print(bin(b))"
   ]
  },
  {
   "cell_type": "code",
   "execution_count": 2,
   "metadata": {},
   "outputs": [
    {
     "name": "stdout",
     "output_type": "stream",
     "text": [
      "9\n"
     ]
    }
   ],
   "source": [
    "a = '1001'\n",
    "\n",
    "def bin_to_dec(a:str)-> int:\n",
    "    res = 0\n",
    "    for i in range(len(a)):\n",
    "        res = res + int(a[i]) * 2 ** (len(a) - i -1)\n",
    "    return res\n",
    "\n",
    "print(bin_to_dec(a))    "
   ]
  },
  {
   "cell_type": "code",
   "execution_count": 2,
   "metadata": {},
   "outputs": [
    {
     "name": "stdout",
     "output_type": "stream",
     "text": [
      "do new\n",
      "do init\n"
     ]
    },
    {
     "data": {
      "text/plain": [
       "<__main__.A at 0x7f9e7d30d5b0>"
      ]
     },
     "execution_count": 2,
     "metadata": {},
     "output_type": "execute_result"
    }
   ],
   "source": [
    "class A(object):\n",
    "    def __init__(self) -> None:\n",
    "        print(\"do init\")\n",
    "    def __new__(cls):\n",
    "        print(\"do new\")\n",
    "        return object.__new__(cls)\n",
    "A()"
   ]
  },
  {
   "cell_type": "code",
   "execution_count": 27,
   "metadata": {},
   "outputs": [],
   "source": [
    "import torch\n",
    "def create_frustum():\n",
    "    iH, iW = 512, 512\n",
    "    fH, fW = int(512/8), int(512/8)\n",
    "\n",
    "    ds = (\n",
    "        torch.arange(start=1,end=60,step=0.5, dtype=torch.float)\n",
    "        .view(-1, 1, 1)\n",
    "        .expand(-1, fH, fW)\n",
    "    )\n",
    "    D, _, _ = ds.shape\n",
    "    print(ds.shape)\n",
    "    xs = (\n",
    "        torch.linspace(0, iW - 1, fW, dtype=torch.float)\n",
    "        .view(1, 1, fW)\n",
    "        .expand(D, fH, fW)\n",
    "    )\n",
    "    print(xs.shape)\n",
    "    ys = (\n",
    "        torch.linspace(0, iH - 1, fH, dtype=torch.float)\n",
    "        .view(1, fH, 1)\n",
    "        .expand(D, fH, fW)\n",
    "    )\n",
    "    print(ys.shape)\n",
    "    frustum = torch.stack((xs, ys, ds), -1)\n",
    "    return frustum"
   ]
  },
  {
   "cell_type": "code",
   "execution_count": 50,
   "metadata": {},
   "outputs": [
    {
     "name": "stdout",
     "output_type": "stream",
     "text": [
      "torch.Size([118, 64, 64])\n",
      "torch.Size([118, 64, 64])\n",
      "torch.Size([118, 64, 64])\n",
      "a torch.Size([118, 64, 64, 3])\n",
      "tensor([511.0000, 511.0000,  59.5000])\n",
      "tensor([0., 0., 1.])\n",
      "tensor([0.0000, 0.0000, 1.5000])\n",
      "tensor([ 0.0000,  0.0000, 59.5000])\n",
      "--------------\n",
      "tensor([0.0000, 8.1111, 1.0000])\n",
      "tensor([0.0000, 8.1111, 1.5000])\n",
      "tensor([ 0.0000,  8.1111, 59.5000])\n"
     ]
    }
   ],
   "source": [
    "a = create_frustum()\n",
    "print(\"a\", a.shape)\n",
    "print(a[117,63,63,:])\n",
    "print(a[0,0,0,:])\n",
    "print(a[1,0,0,:])\n",
    "print(a[117,0,0,:])\n",
    "print('--------------')\n",
    "print(a[0,1,0,:])\n",
    "print(a[1,1,0,:])\n",
    "print(a[117,1,0,:])\n",
    "\n",
    "\n"
   ]
  },
  {
   "cell_type": "code",
   "execution_count": 5,
   "metadata": {},
   "outputs": [
    {
     "name": "stdout",
     "output_type": "stream",
     "text": [
      "torch.Size([4, 1, 1, 32768, 4, 1])\n"
     ]
    }
   ],
   "source": [
    "import torch\n",
    "a = torch.rand([4, 1, 1, 32768, 4, 4])# ([1, 1, 118, 90, 240, 3, 1])\n",
    "b = torch.rand([4, 1, 1, 32768, 4, 1])#([1, 1, 118, 90, 240, 3, 3])\n",
    "\n",
    "c = torch.matmul(a, b)\n",
    "print(c.shape)"
   ]
  },
  {
   "cell_type": "code",
   "execution_count": 10,
   "metadata": {},
   "outputs": [
    {
     "name": "stdout",
     "output_type": "stream",
     "text": [
      "torch.Size([2, 2, 118, 90, 240, 3])\n"
     ]
    }
   ],
   "source": [
    "a = torch.rand([2, 118, 90, 240, 3])\n",
    "a = a.repeat(2,1,1,1,1,1)\n",
    "print(a.shape)"
   ]
  },
  {
   "cell_type": "code",
   "execution_count": null,
   "metadata": {},
   "outputs": [],
   "source": [
    "def create_frustum(self):\n",
    "    iH, iW = self.image_size\n",
    "    fH, fW = self.feature_size\n",
    "\n",
    "    ds = (\n",
    "        torch.arange(*self.dbound, dtype=torch.float)\n",
    "        .view(-1, 1, 1)\n",
    "        .expand(-1, fH, fW)\n",
    "    )\n",
    "    D, _, _ = ds.shape\n",
    "\n",
    "    xs = (\n",
    "        torch.linspace(0, iW - 1, fW, dtype=torch.float)\n",
    "        .view(1, 1, fW)\n",
    "        .expand(D, fH, fW)\n",
    "    )\n",
    "    ys = (\n",
    "        torch.linspace(0, iH - 1, fH, dtype=torch.float)\n",
    "        .view(1, fH, 1)\n",
    "        .expand(D, fH, fW)\n",
    "    )\n",
    "\n",
    "\n",
    "    frustum = torch.stack((xs, ys, ds), -1)\n",
    "    return frustum"
   ]
  }
 ],
 "metadata": {
  "kernelspec": {
   "display_name": "Python 3.8.0 ('nvpp')",
   "language": "python",
   "name": "python3"
  },
  "language_info": {
   "codemirror_mode": {
    "name": "ipython",
    "version": 3
   },
   "file_extension": ".py",
   "mimetype": "text/x-python",
   "name": "python",
   "nbconvert_exporter": "python",
   "pygments_lexer": "ipython3",
   "version": "3.8.0"
  },
  "orig_nbformat": 4,
  "vscode": {
   "interpreter": {
    "hash": "b8a6890d96b5cce02f3ff2dda32766924ee285e616d19a600104d3375e24fd74"
   }
  }
 },
 "nbformat": 4,
 "nbformat_minor": 2
}
